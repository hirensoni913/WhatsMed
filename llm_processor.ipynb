{
 "cells": [
  {
   "cell_type": "code",
   "execution_count": 1,
   "metadata": {
    "cell_id": "eea23d85c439427e8e91b9006b9149be",
    "deepnote_cell_type": "input-text",
    "deepnote_input_label": "",
    "deepnote_variable_name": "camunda_eninge_rest",
    "deepnote_variable_value": "https://digibp.engine.martinlab.science/engine-rest",
    "execution_context_id": "9b4d840c-d117-49f6-9b39-2d0d39a1862a",
    "execution_millis": 0,
    "execution_start": 1734015895347,
    "source_hash": "c383175a"
   },
   "outputs": [],
   "source": [
    "camunda_eninge_rest = 'https://digibp.engine.martinlab.science/engine-rest'"
   ]
  },
  {
   "cell_type": "code",
   "execution_count": 2,
   "metadata": {
    "cell_id": "17b2bd3ae5b24b8b89683b113de9a2f3",
    "deepnote_cell_type": "input-text",
    "deepnote_input_label": "",
    "deepnote_variable_name": "tenant_id",
    "deepnote_variable_value": "mi24synergy",
    "execution_context_id": "34fba5c7-b289-4491-b2f0-fe9a29aa8d18",
    "execution_millis": 1,
    "execution_start": 1734015895394,
    "source_hash": "756a6ab5"
   },
   "outputs": [],
   "source": [
    "tenant_id = 'mi24synergy'"
   ]
  },
  {
   "cell_type": "markdown",
   "metadata": {
    "cell_id": "05b63202420a45dd9d65c3b85ab58a04",
    "deepnote_cell_type": "text-cell-p",
    "formattedRanges": []
   },
   "source": []
  },
  {
   "cell_type": "code",
   "execution_count": null,
   "metadata": {
    "cell_id": "c9428a5c6d974816bca63d379e0ac816",
    "deepnote_cell_type": "code",
    "execution_context_id": "fda1a859-162b-4588-b316-d0e7ad8a5252",
    "execution_millis": 1918,
    "execution_start": 1734015895486,
    "source_hash": "c6eb69d0"
   },
   "outputs": [],
   "source": [
    "from openai import OpenAI\n",
    "import base64"
   ]
  },
  {
   "cell_type": "code",
   "execution_count": 6,
   "metadata": {
    "cell_id": "2f9def7824044bed87802d882e29fdd2",
    "deepnote_cell_type": "code",
    "execution_context_id": "9f67834f-5bbd-4fb4-a1b5-b0d191c36499",
    "execution_millis": 1,
    "execution_start": 1734015897502,
    "source_hash": "10d2e70"
   },
   "outputs": [],
   "source": [
    "client = OpenAI(\n",
    "    # defaults to os.environ.get(\"OPENAI_API_KEY\")\n",
    "    api_key=api_key,\n",
    ")"
   ]
  },
  {
   "cell_type": "code",
   "execution_count": 7,
   "metadata": {
    "cell_id": "f5188ae243804baaac7adfa521692362",
    "deepnote_cell_type": "code",
    "execution_context_id": "7be34e79-5cc0-48f9-918b-611e06be212c",
    "execution_millis": 1,
    "execution_start": 1734015897554,
    "source_hash": "86c7521f"
   },
   "outputs": [],
   "source": [
    "prompt_template = \"\"\"\n",
    "Imagine you are a pharmacist assistant. I have a medication that I don't know what it is. I will tell you everything that I can see on the packaging. Please let me know in very simple terms what it is for. Provide the answer in the format:\n",
    "\n",
    "# {Medication name} is for {indication}.\n",
    "\n",
    "The following rules apply:\n",
    "\n",
    "1) It is possible that only part of the medication's name is visible. In that case, please provide a list all possible medications that could possibly match, not just the most likely. \n",
    "2) It is possible that instead of the active ingredient, the brand name is given.\n",
    "3) The expiration date may also be provided. If you get an expiration date, compare it with current date and raise a warning if it has expired already.\n",
    "4) Prioritize https://www.drugs.com as your data source.\n",
    "5) Do not answer any questions unrelated to medications.\n",
    "\n",
    "For example, if the user gives you the following input \"Depon Max 10/2021\"\n",
    "\n",
    "answer in this format:\n",
    "\n",
    "## **Depon Max** is for **relieving pain** and **reducing fever**.\n",
    "\n",
    "/\n",
    "\n",
    "### Details:\n",
    "* **Active ingredient**: Paracetamol (Acetaminophen)\n",
    "* **Use**: Commonly used to treat mild to moderate pain, such as headaches, muscle aches, or fever caused by infections.\n",
    "### **Expiration Warning**:\n",
    "The expiration date is **10/2021**, which has already passed. **Do not use this medication**. Expired medications may lose effectiveness or pose safety risks. Dispose of it properly and consult a pharmacist for a replacement if needed.\n",
    "\n",
    "\"\"\""
   ]
  },
  {
   "cell_type": "code",
   "execution_count": 9,
   "metadata": {
    "cell_id": "7d2b0751128a457c8579b617597d9960",
    "deepnote_cell_type": "code",
    "execution_context_id": "de79f5fe-84e4-42e7-84fd-b6398b35437a",
    "execution_millis": 0,
    "execution_start": 1734015897646,
    "source_hash": "eec9434f"
   },
   "outputs": [],
   "source": [
    "def image_to_base64(image_name):\n",
    "    with open(image_name, \"rb\") as image_file:\n",
    "        encoded_string = base64.b64encode(image_file.read()).decode(\"utf-8\")\n",
    "    return encoded_string"
   ]
  },
  {
   "cell_type": "code",
   "execution_count": 10,
   "metadata": {
    "cell_id": "addfaede1b8d4fe0bbc46fb50e3ddc1a",
    "deepnote_cell_type": "code",
    "execution_context_id": "fda1a859-162b-4588-b316-d0e7ad8a5252",
    "execution_millis": 0,
    "execution_start": 1734015897694,
    "source_hash": "78db18f8"
   },
   "outputs": [],
   "source": [
    "def generate_response(taskid, response, worker):\n",
    "    print(\"Received Response:\", response[0])\n",
    "    # Extract details from the response\n",
    "    blister_text = response[0][\"variables\"][\"blister_text\"][\"value\"]\n",
    "\n",
    "    response = client.chat.completions.create(\n",
    "        model=\"gpt-4o\",\n",
    "        messages=[\n",
    "            {\n",
    "            \"role\": \"user\",\n",
    "            \"content\": [\n",
    "                    {\n",
    "                        \"type\": \"text\",\n",
    "                        \"text\": prompt_template + blister_text\n",
    "                    }    \n",
    "                ]\n",
    "            }\n",
    "        ]\n",
    "        )\n",
    "    print(prompt_template+blister_text)\n",
    "    gpt_response = response.choices[0].message.content.strip()\n",
    "    \n",
    "\n",
    "    if worker:\n",
    "        worker.complete(taskid, text=gpt_response)\n",
    "    else:\n",
    "        print(f\"Generated Response: {gpt_response}\")\n",
    "\n",
    "    return gpt_response"
   ]
  },
  {
   "cell_type": "code",
   "execution_count": null,
   "metadata": {
    "cell_id": "559a2ede64e24211b9418a7b7cb0b667",
    "deepnote_cell_type": "code",
    "execution_context_id": "fda1a859-162b-4588-b316-d0e7ad8a5252",
    "execution_millis": 330472,
    "execution_start": 1734015897790,
    "source_hash": "b3e191c7"
   },
   "outputs": [],
   "source": [
    "import httpimport\n",
    "\n",
    "with httpimport.github_repo(\"DigiBP\", \"digibp-camunda-external-python-task\"):\n",
    "    import cam\n",
    "\n",
    "# Initialize worker client\n",
    "worker = cam.Client(camunda_eninge_rest)\n",
    "\n",
    "# Subscribe to topic\n",
    "worker.subscribe(\"generate_response\", generate_response, tenant_id)\n",
    "\n",
    "# Start polling server\n",
    "worker.polling()"
   ]
  },
  {
   "cell_type": "code",
   "execution_count": 12,
   "metadata": {
    "cell_id": "6fa8a7ea22494da5a40f24135b4c3edf",
    "deepnote_cell_type": "code",
    "execution_context_id": "fee4a387-502a-42ee-b7b8-f73fd5a7ee3a",
    "execution_millis": 1,
    "execution_start": 1734015862622,
    "source_hash": "b623e53d"
   },
   "outputs": [],
   "source": []
  },
  {
   "cell_type": "markdown",
   "metadata": {
    "created_in_deepnote_cell": true,
    "deepnote_cell_type": "markdown"
   },
   "source": [
    "<a style='text-decoration:none;line-height:16px;display:flex;color:#5B5B62;padding:10px;justify-content:end;' href='https://deepnote.com?utm_source=created-in-deepnote-cell&projectId=0244033d-a251-4367-b8d1-4654a67844aa' target=\"_blank\">\n",
    "<img alt='Created in deepnote.com' style='display:inline;max-height:16px;margin:0px;margin-right:7.5px;' src='data:image/svg+xml;base64,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' > </img>\n",
    "Created in <span style='font-weight:600;margin-left:4px;'>Deepnote</span></a>"
   ]
  }
 ],
 "metadata": {
  "deepnote_notebook_id": "227ae2b66b7449df8f4c044a0cb4a641",
  "language_info": {
   "name": "python"
  }
 },
 "nbformat": 4,
 "nbformat_minor": 0
}
